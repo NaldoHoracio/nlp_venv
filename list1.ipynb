{
 "cells": [
  {
   "cell_type": "markdown",
   "id": "10f1b923-fbf3-4776-9a21-808a6a0d59c1",
   "metadata": {},
   "source": [
    "### Q1\n",
    "\n",
    "Implemente uma função usando expressões regulares que testa se um string representa um CPF no formato correto. Mostre exemplos."
   ]
  },
  {
   "cell_type": "code",
   "execution_count": null,
   "id": "391dd7c0-d922-4628-8477-fa70108de4d5",
   "metadata": {},
   "outputs": [],
   "source": [
    "import re\n",
    "\n",
    "def check_cpf(cpf: str):\n",
    "    cpf_pattern = \"(\\d{3}).?(\\d{3}).?(\\d{3})-?(\\d{2})\"\n",
    "    check_ = re.compile(cpf_pattern).search(cpf)\n",
    "\n",
    "    if check_:\n",
    "        print(f\"Is a CPF!\\n\")\n",
    "    else:\n",
    "        print(f\"Is NOT CPF\\n\""
   ]
  }
 ],
 "metadata": {
  "kernelspec": {
   "display_name": "Python 3 (ipykernel)",
   "language": "python",
   "name": "python3"
  },
  "language_info": {
   "codemirror_mode": {
    "name": "ipython",
    "version": 3
   },
   "file_extension": ".py",
   "mimetype": "text/x-python",
   "name": "python",
   "nbconvert_exporter": "python",
   "pygments_lexer": "ipython3",
   "version": "3.11.7"
  }
 },
 "nbformat": 4,
 "nbformat_minor": 5
}
