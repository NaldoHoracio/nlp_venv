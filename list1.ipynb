{
 "cells": [
  {
   "cell_type": "markdown",
   "id": "10f1b923-fbf3-4776-9a21-808a6a0d59c1",
   "metadata": {},
   "source": [
    "### Q1\n",
    "\n",
    "Implemente uma função usando expressões regulares que testa se um string representa um CPF no formato correto. Mostre exemplos."
   ]
  },
  {
   "cell_type": "code",
   "execution_count": 1,
   "id": "391dd7c0-d922-4628-8477-fa70108de4d5",
   "metadata": {},
   "outputs": [],
   "source": [
    "import re\n",
    "\n",
    "def check_cpf(cpf: str):\n",
    "    cpf_pattern = \"(\\d{3}).?(\\d{3}).?(\\d{3})-?(\\d{2})\"\n",
    "    check_ = re.compile(cpf_pattern).search(cpf)\n",
    "\n",
    "    if check_:\n",
    "        print(f\"Is a CPF!\\n\")\n",
    "    else:\n",
    "        print(f\"Is NOT CPF\\n\")"
   ]
  },
  {
   "cell_type": "code",
   "execution_count": 2,
   "id": "0c27a009-dad4-48a4-8f25-f63b23c3c8f1",
   "metadata": {},
   "outputs": [
    {
     "name": "stdout",
     "output_type": "stream",
     "text": [
      "Is a CPF!\n",
      "\n"
     ]
    }
   ],
   "source": [
    "# Correcte cases\n",
    "check_cpf(\"123.123.123-35\")"
   ]
  },
  {
   "cell_type": "code",
   "execution_count": 3,
   "id": "ee9832b9-e915-4cca-8783-98fdff00ee98",
   "metadata": {},
   "outputs": [
    {
     "name": "stdout",
     "output_type": "stream",
     "text": [
      "Is a CPF!\n",
      "\n"
     ]
    }
   ],
   "source": [
    "check_cpf(\"123123.123-35\")"
   ]
  },
  {
   "cell_type": "code",
   "execution_count": 4,
   "id": "40dd5907-f281-4a2e-bc23-aaf524a805ab",
   "metadata": {},
   "outputs": [
    {
     "name": "stdout",
     "output_type": "stream",
     "text": [
      "Is a CPF!\n",
      "\n"
     ]
    }
   ],
   "source": [
    "check_cpf(\"123123123-35\")"
   ]
  },
  {
   "cell_type": "code",
   "execution_count": 5,
   "id": "1f718788-2cec-4872-b9be-ed28a1dde2ef",
   "metadata": {},
   "outputs": [
    {
     "name": "stdout",
     "output_type": "stream",
     "text": [
      "Is a CPF!\n",
      "\n"
     ]
    }
   ],
   "source": [
    "check_cpf(\"12312312335\")"
   ]
  },
  {
   "cell_type": "code",
   "execution_count": 6,
   "id": "d3cb18b4-f027-4c39-966b-57713473c99c",
   "metadata": {},
   "outputs": [
    {
     "name": "stdout",
     "output_type": "stream",
     "text": [
      "Is a CPF!\n",
      "\n"
     ]
    }
   ],
   "source": [
    "check_cpf(\"123.123123-35\")"
   ]
  },
  {
   "cell_type": "code",
   "execution_count": 7,
   "id": "a57e8d62-3e5d-4f68-8c6f-03dd8f9be620",
   "metadata": {},
   "outputs": [
    {
     "name": "stdout",
     "output_type": "stream",
     "text": [
      "Is a CPF!\n",
      "\n"
     ]
    }
   ],
   "source": [
    "check_cpf(\"123.12312335\")"
   ]
  },
  {
   "cell_type": "code",
   "execution_count": 8,
   "id": "00f35b11-bb5f-49aa-a751-f9cecb756d47",
   "metadata": {},
   "outputs": [
    {
     "name": "stdout",
     "output_type": "stream",
     "text": [
      "Is NOT CPF\n",
      "\n"
     ]
    }
   ],
   "source": [
    "check_cpf(\"123aaa123-35\")"
   ]
  },
  {
   "cell_type": "code",
   "execution_count": 15,
   "id": "3e22a4d4-1847-4ec2-b8d3-8fd617eebaf3",
   "metadata": {},
   "outputs": [],
   "source": [
    "import re\n",
    "\n",
    "def search_pattern_in_string(pattern, string):\n",
    "    search = re.compile(pattern).search(string)\n",
    "\n",
    "    if not search:\n",
    "        return print(f\"No match\")\n",
    "    else:\n",
    "        return print(f\"Found pattern: {search.group()}\")"
   ]
  },
  {
   "cell_type": "code",
   "execution_count": 17,
   "id": "d44c6dcb-3e6c-4bf3-9ffe-2d6f20f90cec",
   "metadata": {},
   "outputs": [
    {
     "name": "stdout",
     "output_type": "stream",
     "text": [
      "Found pattern: _\n"
     ]
    }
   ],
   "source": [
    "# The '.' matches any single character (just one character)\n",
    "search_pattern_in_string(\".\", \"__\")"
   ]
  },
  {
   "cell_type": "code",
   "execution_count": 28,
   "id": "71878450-dbe0-41d2-969b-4b04312c7c23",
   "metadata": {},
   "outputs": [
    {
     "name": "stdout",
     "output_type": "stream",
     "text": [
      "Found pattern: \n"
     ]
    }
   ],
   "source": [
    "# O '*' considera 0 ou mais ocorrências no INÍCIO da string\n",
    "search_pattern_in_string(\"l*\", \"Sherlock Holmes\")"
   ]
  },
  {
   "cell_type": "code",
   "execution_count": 30,
   "id": "be27a402-4977-47a5-ad36-3a81b93b7502",
   "metadata": {},
   "outputs": [
    {
     "name": "stdout",
     "output_type": "stream",
     "text": [
      "Found pattern: S\n"
     ]
    }
   ],
   "source": [
    "search_pattern_in_string(\"S*\", \"Sherlock Holmes\")"
   ]
  },
  {
   "cell_type": "code",
   "execution_count": 53,
   "id": "259d99d5-9e8e-4a77-853c-af7e1bf75e37",
   "metadata": {},
   "outputs": [
    {
     "name": "stdout",
     "output_type": "stream",
     "text": [
      "Found pattern: ???????\n"
     ]
    }
   ],
   "source": [
    "search_pattern_in_string(\"\\?*\", \"???????\")"
   ]
  },
  {
   "cell_type": "markdown",
   "id": "17ec0088-e321-4c74-a13c-61f2ec6c7551",
   "metadata": {},
   "source": [
    "### Q2\n",
    "\n",
    "Implemente uma função usando expressões regulares que seja capaz, com uma única expressão regular, de extrair rua, número, apartamento\n",
    "(opcionalmente), bairro (opcionalmente), CEP, cidade e estado. Esta função\n",
    "deve ser capaz de funcionar em todos os exemplos abaixo:\n",
    "- Rua José da Silva, 346, Farol, CEP 57002-220. Maceió, AL.\n",
    "- Rua da Consolação, 9999, apt 302, Consolação, CEP 11022-202. São\n",
    "Paulo, SP.\n",
    "- Avenida Atlântica, 420, ap 1001, Copacabana, cep 22011-010. Rio de\n",
    "Janeiro, RJ."
   ]
  },
  {
   "cell_type": "code",
   "execution_count": 64,
   "id": "83f77153-1ee8-4f57-97d1-caba4b5c5598",
   "metadata": {},
   "outputs": [],
   "source": [
    "import re\n",
    "\n",
    "def is_valid_address(address_candidate):\n",
    "  pattern = \"([A-Z]{1}\\w+\\s*\\w*\\s*\\w*\\s*\\w*)[,]{1}\"\\\n",
    "  \"\\s*(\\d+)[,]{1}\"\\\n",
    "  \"\\s?(ap{1}t*\\s+\\d+[,]{1})?\"\\\n",
    "  \"\\s?([A-Z]{1}\\w+\\s*\\w*\\s*\\w*\\s*\\w*[,]{1})?\"\\\n",
    "  \"\\s?(\\w{3}\\s+\\d{5}-+\\d{3})[.]{1}\"\\\n",
    "  \"\\s?([A-Z]{1}\\w+\\s*\\w*\\s*\\w*\\s*\\w*)[,]{1}\"\\\n",
    "  \"\\s?([A-Z]{2})[.]{1}\"\n",
    "  compile_pattern = re.compile(pattern)\n",
    "  addr = compile_pattern.match(address_candidate)\n",
    "\n",
    "  if not addr:\n",
    "    return print(\"NO MATCH!\\nAddress INVALID!\")\n",
    "  else:\n",
    "    print(\"MATCH!\\nAddress VALID pattern! See the address:\")\n",
    "    print(\"Rua: \", addr.group(1))\n",
    "    print(\"Nº: \", addr.group(2))\n",
    "\n",
    "\n",
    "    if addr.group(3) == None:\n",
    "      print(\"Sem nome de apartamento.\")\n",
    "    else:\n",
    "      print(\"Apt: \", re.sub(',', '', addr.group(3).split(' ')[1]))\n",
    "    \n",
    "    if addr.group(4) == None:\n",
    "      print(\"Sem nome de bairro.\")\n",
    "    else:\n",
    "      print(\"Bairro: \", addr.group(4).split(',')[0])\n",
    "    \n",
    "    print(\"CEP: \", addr.group(5).split(' ')[1])\n",
    "    print(\"Cidade: \", addr.group(6))\n",
    "    print(\"Estado: \", addr.group(7))"
   ]
  },
  {
   "cell_type": "code",
   "execution_count": 65,
   "id": "4c8f12cc-f371-4633-bb41-00d94c5e5d2d",
   "metadata": {},
   "outputs": [
    {
     "name": "stdout",
     "output_type": "stream",
     "text": [
      "MATCH!\n",
      "Address VALID pattern! See the address:\n",
      "Rua:  Rua José da Silva\n",
      "Nº:  346\n",
      "Sem nome de apartamento.\n",
      "Bairro:  Farol\n",
      "CEP:  57002-220\n",
      "Cidade:  Maceió\n",
      "Estado:  AL\n"
     ]
    }
   ],
   "source": [
    "is_valid_address(\"Rua José da Silva, 346, Farol, CEP 57002-220. Maceió, AL.\")"
   ]
  },
  {
   "cell_type": "code",
   "execution_count": 66,
   "id": "e94d0c05-3b1b-4d32-b538-eef0765e0db1",
   "metadata": {},
   "outputs": [
    {
     "name": "stdout",
     "output_type": "stream",
     "text": [
      "MATCH!\n",
      "Address VALID pattern! See the address:\n",
      "Rua:  Rua da Consolação\n",
      "Nº:  9999\n",
      "Apt:  302\n",
      "Sem nome de bairro.\n",
      "CEP:  11022-202\n",
      "Cidade:  São Paulo\n",
      "Estado:  SP\n"
     ]
    }
   ],
   "source": [
    "is_valid_address(\"Rua da Consolação, 9999, ap 302, CEP 11022-202. São Paulo, SP.\")"
   ]
  },
  {
   "cell_type": "code",
   "execution_count": 68,
   "id": "7ffc7ab2-a311-4b2a-8342-ca743ae6c392",
   "metadata": {},
   "outputs": [
    {
     "name": "stdout",
     "output_type": "stream",
     "text": [
      "MATCH!\n",
      "Address VALID pattern! See the address:\n",
      "Rua:  Avenida Atlântica\n",
      "Nº:  420\n",
      "Apt:  1001\n",
      "Bairro:  Copacabana\n",
      "CEP:  22011-010\n",
      "Cidade:  Rio de Janeiro\n",
      "Estado:  RJ\n"
     ]
    }
   ],
   "source": [
    "is_valid_address(\"Avenida Atlântica, 420, ap 1001, Copacabana, cep 22011-010. Rio de Janeiro, RJ.\")"
   ]
  },
  {
   "cell_type": "markdown",
   "id": "b91c5a5c-f79c-46d4-b8e2-eddbcf04e431",
   "metadata": {},
   "source": [
    "### Q3\n",
    "Implemente uma função usando expressões regulares que encontre todas as URLs em um string."
   ]
  },
  {
   "cell_type": "code",
   "execution_count": 84,
   "id": "ae495700-cdfe-4e14-88e9-cc0232b6216e",
   "metadata": {},
   "outputs": [],
   "source": [
    "def search_url(candidate_url):\n",
    "  pattern = \"([https://]*(w+\\.)?(\\w\\.?)+\\.\\D+(/\\w+)?)+\"\n",
    "  \n",
    "  search = re.compile(pattern).search(candidate_url)\n",
    "\n",
    "  if not search:\n",
    "    return False\n",
    "  else:\n",
    "    return True\n",
    "\n",
    "def print_url(txt_str):\n",
    "  urls = []\n",
    "  words = txt_str.split(' ')\n",
    "  for idx in range(len(words)):\n",
    "    if search_url(words[idx]) is True:\n",
    "      urls.append(words[idx])\n",
    "  \n",
    "  if len(urls) > 0:\n",
    "    print(\"MATCH!\\nUrls: \")\n",
    "    for idx in range(len(urls)):      \n",
    "      print(f\"URL {idx+1}: {urls[idx]}\")\n",
    "  else:\n",
    "    print(\"NO MATCH!\\nThe string don't have urls.\")"
   ]
  },
  {
   "cell_type": "code",
   "execution_count": 85,
   "id": "e194e1f7-074d-4ed4-b3fb-8675533d33f0",
   "metadata": {},
   "outputs": [
    {
     "name": "stdout",
     "output_type": "stream",
     "text": [
      "NO MATCH!\n",
      "The string don't have urls.\n"
     ]
    }
   ],
   "source": [
    "print_url(\"edvonaldo\")"
   ]
  },
  {
   "cell_type": "code",
   "execution_count": 86,
   "id": "ecf421ab-b1a1-4dca-952a-bd6dee7b8b00",
   "metadata": {},
   "outputs": [
    {
     "name": "stdout",
     "output_type": "stream",
     "text": [
      "MATCH!\n",
      "Urls: \n",
      "URL 1: www.google.com\n"
     ]
    }
   ],
   "source": [
    "print_url(\"adad www.google.com\")"
   ]
  },
  {
   "cell_type": "code",
   "execution_count": 87,
   "id": "c07f1551-e828-4db3-96e9-cf3b745516b9",
   "metadata": {},
   "outputs": [
    {
     "name": "stdout",
     "output_type": "stream",
     "text": [
      "MATCH!\n",
      "Urls: \n",
      "URL 1: https://www.geeksforgeeks.org/types-of-url/#:~:text=There%20are%20two%20types%20of,Relative%20URL\n"
     ]
    }
   ],
   "source": [
    "print_url(\"Go to https://www.geeksforgeeks.org/types-of-url/#:~:text=There%20are%20two%20types%20of,Relative%20URL\")"
   ]
  },
  {
   "cell_type": "code",
   "execution_count": 88,
   "id": "533b7a44-8798-43e3-b594-ad75ef8b856d",
   "metadata": {},
   "outputs": [
    {
     "name": "stdout",
     "output_type": "stream",
     "text": [
      "MATCH!\n",
      "Urls: \n",
      "URL 1: https://classroom.google.com/\n",
      "URL 2: https://spacy.io/\n",
      "URL 3: https://docs.python.org/3/library/re.html\n"
     ]
    }
   ],
   "source": [
    "print_url(\"I will go to https://classroom.google.com/ and visting https://spacy.io/ and lastly https://docs.python.org/3/library/re.html\")"
   ]
  },
  {
   "cell_type": "markdown",
   "id": "016da55c-7789-4592-9048-5fd1e8cd96d4",
   "metadata": {},
   "source": [
    "### Q4\n",
    "\n",
    "Considere o seguinte exemplo de referência de livro em formato de citação APA:\n",
    "Manning, C. D., Manning, C. D., & Schutze, H. (1999). Foundations of statistical natural language processing. MIT press.\n",
    "\n",
    "Implemente uma função usando expressões regulares que extraia cada autor, ano de publicação, tı́tulo e editora do livro, para qualquer referência de livro neste formato."
   ]
  },
  {
   "cell_type": "code",
   "execution_count": 89,
   "id": "2c8bf921-5a9e-43f1-babd-18940182e61e",
   "metadata": {},
   "outputs": [],
   "source": [
    "def split_sentence(txt):\n",
    "  sep1 = []\n",
    "  sep2 = []\n",
    "  sents = txt.split(',')\n",
    "  for idx in range(len(sents)):\n",
    "    print(f\"Sentence {idx+1}: {sents[idx]}\")"
   ]
  },
  {
   "cell_type": "code",
   "execution_count": 90,
   "id": "ec40f688-467b-4e8b-ba37-07c89a0d4ab8",
   "metadata": {},
   "outputs": [
    {
     "name": "stdout",
     "output_type": "stream",
     "text": [
      "Sentence 1: Manning\n",
      "Sentence 2:  C. D.\n",
      "Sentence 3:  & Schutze\n",
      "Sentence 4:  H. (1999). Foundations of statistical natural language processing. MIT press.\n"
     ]
    }
   ],
   "source": [
    "split_sentence(\"Manning, C. D., & Schutze, H. (1999). Foundations of statistical natural language processing. MIT press.\")"
   ]
  },
  {
   "cell_type": "code",
   "execution_count": 91,
   "id": "4bbf93cd-e463-49d9-af94-9e72e58565d3",
   "metadata": {},
   "outputs": [],
   "source": [
    "def search_reference(string):  \n",
    "  pattern = \"(\\D+,(\\s([A-Z]\\.)+)+,?)+\\s(\\(\\d\\d\\d\\d\\))\\.\\s(\\D+\\s*)+\\.\\s(\\D+)\\.\"\n",
    "  patt = re.compile(pattern)\n",
    "  result = patt.match(string)\n",
    "  if not result:\n",
    "    print(\"NO MATCH: invalid format.\")\n",
    "  else:\n",
    "    print(\"MATCH! Infos:\")\n",
    "    print('Autores: ' + result.group(1))\n",
    "    print('Ano: ' + result.group(4))\n",
    "    print('Revista: ' + result.group(5))\n",
    "    print('Editora: ' + result.group(6))"
   ]
  },
  {
   "cell_type": "code",
   "execution_count": 92,
   "id": "c08c19bb-589a-4fc8-b50d-4677672e19b2",
   "metadata": {},
   "outputs": [
    {
     "name": "stdout",
     "output_type": "stream",
     "text": [
      "NO MATCH: invalid format.\n"
     ]
    }
   ],
   "source": [
    "search_reference(\"Manning, C. D., Manning, C. D., & Schutze, H. (1999)\")"
   ]
  },
  {
   "cell_type": "code",
   "execution_count": 93,
   "id": "7e895066-e688-4637-9ea1-b2c9726eb487",
   "metadata": {},
   "outputs": [
    {
     "name": "stdout",
     "output_type": "stream",
     "text": [
      "MATCH! Infos:\n",
      "Autores: Manning, C. D., & Schutze, H.\n",
      "Ano: (1999)\n",
      "Revista: Foundations of statistical natural language processing\n",
      "Editora: MIT press\n"
     ]
    }
   ],
   "source": [
    "search_reference('Manning, C. D., & Schutze, H. (1999). Foundations of statistical natural language processing. MIT press.')"
   ]
  },
  {
   "cell_type": "code",
   "execution_count": 94,
   "id": "887cb290-8d96-41dd-907d-63dfd3d11d7d",
   "metadata": {},
   "outputs": [
    {
     "name": "stdout",
     "output_type": "stream",
     "text": [
      "MATCH! Infos:\n",
      "Autores: Manning, C. D.\n",
      "Ano: (1999)\n",
      "Revista: Foundations of statistical natural language processing\n",
      "Editora: MIT press\n"
     ]
    }
   ],
   "source": [
    "search_reference('Manning, C. D. (1999). Foundations of statistical natural language processing. MIT press.')"
   ]
  },
  {
   "cell_type": "code",
   "execution_count": 95,
   "id": "e467350f-911d-4407-a6d3-6db73493f0ce",
   "metadata": {},
   "outputs": [
    {
     "name": "stdout",
     "output_type": "stream",
     "text": [
      "MATCH! Infos:\n",
      "Autores: Manning, C. D., Manning, C. D., & Schutze, H.\n",
      "Ano: (2001)\n",
      "Revista: Foundations of statistical natural language processing\n",
      "Editora: MIT press\n"
     ]
    }
   ],
   "source": [
    "search_reference('Manning, C. D., Manning, C. D., & Schutze, H. (2001). Foundations of statistical natural language processing. MIT press.')"
   ]
  },
  {
   "cell_type": "markdown",
   "id": "1f38ed72-1e99-4148-b57b-72e1bf7a7e18",
   "metadata": {},
   "source": [
    "### Q5\n",
    "Implemente uma função usando expressões regulares que encontre e substitua todas as datas em formato dd/mm/yyyy por mm-dd-yy. Mostre\n",
    "exemplos."
   ]
  },
  {
   "cell_type": "code",
   "execution_count": 113,
   "id": "2df0ea75-0e27-4af0-849e-adc29077d72a",
   "metadata": {},
   "outputs": [],
   "source": [
    "import re\n",
    "\n",
    "def change_date_format(str_data):\n",
    "    pattern = \"(\\d{2})/(\\d{2})/(\\d{4})\"\n",
    "    data_ = re.compile(pattern).search(str_data)\n",
    "\n",
    "    if data_:\n",
    "        new_day = int(data_.group(1))\n",
    "        new_month = int(data_.group(2))\n",
    "        new_year = int(data_.group(3))\n",
    "        print(f\"MATCH!\")\n",
    "        print(f\"Day: {data_.group(1)}\")\n",
    "        print(f\"Month: {data_.group(2)}\")\n",
    "        print(f\"Year: {data_.group(3)}\")\n",
    "    else:\n",
    "        print(f\"No MATCH!\")    "
   ]
  },
  {
   "cell_type": "code",
   "execution_count": 114,
   "id": "c4fa43b4-b64e-4952-8dba-5a6839382d0f",
   "metadata": {},
   "outputs": [
    {
     "name": "stdout",
     "output_type": "stream",
     "text": [
      "MATCH!\n",
      "Day: 22\n",
      "Month: 05\n",
      "Year: 2024\n"
     ]
    }
   ],
   "source": [
    "change_date_format(\"22/05/2024\")"
   ]
  },
  {
   "cell_type": "code",
   "execution_count": null,
   "id": "3517d9cd-8627-4da9-8a1d-a054d8ecf0fe",
   "metadata": {},
   "outputs": [],
   "source": []
  }
 ],
 "metadata": {
  "kernelspec": {
   "display_name": "Python 3 (ipykernel)",
   "language": "python",
   "name": "python3"
  },
  "language_info": {
   "codemirror_mode": {
    "name": "ipython",
    "version": 3
   },
   "file_extension": ".py",
   "mimetype": "text/x-python",
   "name": "python",
   "nbconvert_exporter": "python",
   "pygments_lexer": "ipython3",
   "version": "3.11.7"
  }
 },
 "nbformat": 4,
 "nbformat_minor": 5
}
